{
 "cells": [
  {
   "cell_type": "code",
   "execution_count": 4,
   "metadata": {
    "collapsed": true
   },
   "outputs": [],
   "source": [
    "import pandas as pd\n",
    "import numpy as np\n",
    "\n",
    "import statsmodels.formula.api as smf #for OLS\n",
    "import statsmodels.api as sm #for ANOVA\n",
    "\n",
    "# tests for homogenetity of variance\n",
    "from scipy.stats import levene\n",
    "from statsmodels.stats.diagnostic import het_breuschpagan"
   ]
  },
  {
   "cell_type": "markdown",
   "metadata": {},
   "source": [
    "### Call in Sample Dataset"
   ]
  },
  {
   "cell_type": "markdown",
   "metadata": {},
   "source": [
    " * elect_lag: Household average electricity monsumption per Month (kwh)\n",
    " * temp: Average monthly temperature (Degree Celsius)\n",
    " * holiday: No. non-weekend public holidays per month\n",
    " * weekend: No. of weekends per month\n",
    " * days: No. extra days per month from Feb (which is the month with lowest days ie, 28)"
   ]
  },
  {
   "cell_type": "code",
   "execution_count": 5,
   "metadata": {
    "collapsed": true
   },
   "outputs": [],
   "source": [
    "df = pd.read_csv('./data/sample_elect.csv')"
   ]
  },
  {
   "cell_type": "code",
   "execution_count": 6,
   "metadata": {},
   "outputs": [
    {
     "data": {
      "text/html": [
       "<div>\n",
       "<style scoped>\n",
       "    .dataframe tbody tr th:only-of-type {\n",
       "        vertical-align: middle;\n",
       "    }\n",
       "\n",
       "    .dataframe tbody tr th {\n",
       "        vertical-align: top;\n",
       "    }\n",
       "\n",
       "    .dataframe thead th {\n",
       "        text-align: right;\n",
       "    }\n",
       "</style>\n",
       "<table border=\"1\" class=\"dataframe\">\n",
       "  <thead>\n",
       "    <tr style=\"text-align: right;\">\n",
       "      <th></th>\n",
       "      <th>month</th>\n",
       "      <th>temp</th>\n",
       "      <th>elect_lag</th>\n",
       "      <th>holiday</th>\n",
       "      <th>weekend</th>\n",
       "      <th>days</th>\n",
       "    </tr>\n",
       "  </thead>\n",
       "  <tbody>\n",
       "    <tr>\n",
       "      <th>0</th>\n",
       "      <td>1/1/05</td>\n",
       "      <td>26.6</td>\n",
       "      <td>408.0</td>\n",
       "      <td>1</td>\n",
       "      <td>10</td>\n",
       "      <td>3</td>\n",
       "    </tr>\n",
       "    <tr>\n",
       "      <th>1</th>\n",
       "      <td>1/2/05</td>\n",
       "      <td>28.5</td>\n",
       "      <td>446.0</td>\n",
       "      <td>2</td>\n",
       "      <td>8</td>\n",
       "      <td>0</td>\n",
       "    </tr>\n",
       "    <tr>\n",
       "      <th>2</th>\n",
       "      <td>1/3/05</td>\n",
       "      <td>28.5</td>\n",
       "      <td>496.0</td>\n",
       "      <td>1</td>\n",
       "      <td>8</td>\n",
       "      <td>3</td>\n",
       "    </tr>\n",
       "    <tr>\n",
       "      <th>3</th>\n",
       "      <td>1/4/05</td>\n",
       "      <td>28.7</td>\n",
       "      <td>496.0</td>\n",
       "      <td>0</td>\n",
       "      <td>9</td>\n",
       "      <td>2</td>\n",
       "    </tr>\n",
       "    <tr>\n",
       "      <th>4</th>\n",
       "      <td>1/5/05</td>\n",
       "      <td>28.5</td>\n",
       "      <td>519.0</td>\n",
       "      <td>2</td>\n",
       "      <td>9</td>\n",
       "      <td>3</td>\n",
       "    </tr>\n",
       "  </tbody>\n",
       "</table>\n",
       "</div>"
      ],
      "text/plain": [
       "    month  temp  elect_lag  holiday  weekend  days\n",
       "0  1/1/05  26.6      408.0        1       10     3\n",
       "1  1/2/05  28.5      446.0        2        8     0\n",
       "2  1/3/05  28.5      496.0        1        8     3\n",
       "3  1/4/05  28.7      496.0        0        9     2\n",
       "4  1/5/05  28.5      519.0        2        9     3"
      ]
     },
     "execution_count": 6,
     "metadata": {},
     "output_type": "execute_result"
    }
   ],
   "source": [
    "df.head()"
   ]
  },
  {
   "cell_type": "code",
   "execution_count": 7,
   "metadata": {},
   "outputs": [
    {
     "data": {
      "text/plain": [
       "month         object\n",
       "temp         float64\n",
       "elect_lag    float64\n",
       "holiday        int64\n",
       "weekend        int64\n",
       "days           int64\n",
       "dtype: object"
      ]
     },
     "execution_count": 7,
     "metadata": {},
     "output_type": "execute_result"
    }
   ],
   "source": [
    "df.dtypes"
   ]
  },
  {
   "cell_type": "code",
   "execution_count": null,
   "metadata": {
    "collapsed": true
   },
   "outputs": [],
   "source": [
    "df2 = df.dropna()"
   ]
  },
  {
   "cell_type": "markdown",
   "metadata": {},
   "source": [
    "### Preprocess Some Fields"
   ]
  },
  {
   "cell_type": "code",
   "execution_count": 8,
   "metadata": {
    "collapsed": true
   },
   "outputs": [],
   "source": [
    "df['weekend_holiday'] = df['holiday'] + df['weekend']"
   ]
  },
  {
   "cell_type": "markdown",
   "metadata": {},
   "source": [
    "### Tests on Assumptions\n",
    "Linear Regression is a parametric test & requires the fulfilment of assumptions that includes:\n",
    " * Linear relationship\n",
    " * Normal distribution\n",
    " * No or little multicollinearity\n",
    " * No auto-correlation\n",
    " * Homoscedasticity (Homogeneity of Variance)"
   ]
  },
  {
   "cell_type": "markdown",
   "metadata": {},
   "source": [
    "##### Levene Test for Homogeneity of Variance\n",
    "This is a non-paramatric test"
   ]
  },
  {
   "cell_type": "code",
   "execution_count": 12,
   "metadata": {},
   "outputs": [
    {
     "data": {
      "text/plain": [
       "LeveneResult(statistic=263.96450294612305, pvalue=3.036329849471091e-107)"
      ]
     },
     "execution_count": 12,
     "metadata": {},
     "output_type": "execute_result"
    }
   ],
   "source": [
    "levene(df2['elect_lag'],df2['temp'],df2['weekend_holiday'],df2['days'])"
   ]
  },
  {
   "cell_type": "markdown",
   "metadata": {},
   "source": [
    "p-value > 0.05, hence there is homogeneity of variance"
   ]
  },
  {
   "cell_type": "markdown",
   "metadata": {},
   "source": [
    "##### Breush-Pagan Test for Homogeneity of Variance\n",
    "This is a parametric test that requires the use of residual for computation"
   ]
  },
  {
   "cell_type": "code",
   "execution_count": 43,
   "metadata": {},
   "outputs": [
    {
     "data": {
      "text/plain": [
       "[('Lagrange multiplier statistic', 4.308103713749555),\n",
       " ('p-value of LMS', 0.7436843592695681),\n",
       " ('F-Statistics value', 0.5990606485408276),\n",
       " ('F-Statistics p-value', 0.7558298342609454)]"
      ]
     },
     "execution_count": 43,
     "metadata": {},
     "output_type": "execute_result"
    }
   ],
   "source": [
    "name = ['Lagrange multiplier statistic', 'p-value of LMS', \n",
    "        'F-Statistics value', 'F-Statistics p-value']\n",
    "test = het_breuschpagan(ols.resid, ols.model.exog)\n",
    "list(zip(name,test))"
   ]
  },
  {
   "cell_type": "markdown",
   "metadata": {},
   "source": [
    "F-statistics p-value > 0.05, hence there is homogeneity of variance"
   ]
  },
  {
   "cell_type": "markdown",
   "metadata": {},
   "source": [
    "### Linear Regression, or Ordinary Least Squares (OLS)"
   ]
  },
  {
   "cell_type": "markdown",
   "metadata": {},
   "source": [
    " * '+' : test each variable separately\n",
    " * ':' : test interaction effect of variables together\n",
    " * '*' : test both individual and interaction affect"
   ]
  },
  {
   "cell_type": "code",
   "execution_count": 44,
   "metadata": {},
   "outputs": [
    {
     "name": "stdout",
     "output_type": "stream",
     "text": [
      "                            OLS Regression Results                            \n",
      "==============================================================================\n",
      "Dep. Variable:              elect_lag   R-squared:                       0.783\n",
      "Model:                            OLS   Adj. R-squared:                  0.779\n",
      "Method:                 Least Squares   F-statistic:                     167.6\n",
      "Date:                Sun, 29 Jul 2018   Prob (F-statistic):           5.69e-46\n",
      "Time:                        23:09:37   Log-Likelihood:                -601.19\n",
      "No. Observations:                 143   AIC:                             1210.\n",
      "Df Residuals:                     139   BIC:                             1222.\n",
      "Df Model:                           3                                         \n",
      "Covariance Type:            nonrobust                                         \n",
      "===================================================================================\n",
      "                      coef    std err          t      P>|t|      [0.025      0.975]\n",
      "-----------------------------------------------------------------------------------\n",
      "Intercept        -641.0704     56.485    -11.349      0.000    -752.751    -529.390\n",
      "temp               39.3541      1.900     20.717      0.000      35.598      43.110\n",
      "days               10.0076      1.660      6.030      0.000       6.726      13.289\n",
      "weekend_holiday    -0.9358      1.393     -0.672      0.503      -3.690       1.819\n",
      "==============================================================================\n",
      "Omnibus:                        3.459   Durbin-Watson:                   1.333\n",
      "Prob(Omnibus):                  0.177   Jarque-Bera (JB):                2.967\n",
      "Skew:                          -0.331   Prob(JB):                        0.227\n",
      "Kurtosis:                       3.244   Cond. No.                     1.22e+03\n",
      "==============================================================================\n",
      "\n",
      "Warnings:\n",
      "[1] Standard Errors assume that the covariance matrix of the errors is correctly specified.\n",
      "[2] The condition number is large, 1.22e+03. This might indicate that there are\n",
      "strong multicollinearity or other numerical problems.\n"
     ]
    }
   ],
   "source": [
    "# fit the model\n",
    "# This tests each variable separately in the linear equation\n",
    "ols = smf.ols('elect_lag~temp+days+weekend_holiday', data=df2).fit()\n",
    "# use print function to get a proper summary\n",
    "print(ols.summary())"
   ]
  },
  {
   "cell_type": "code",
   "execution_count": 40,
   "metadata": {},
   "outputs": [
    {
     "name": "stdout",
     "output_type": "stream",
     "text": [
      "                            OLS Regression Results                            \n",
      "==============================================================================\n",
      "Dep. Variable:              elect_lag   R-squared:                       0.075\n",
      "Model:                            OLS   Adj. R-squared:                  0.068\n",
      "Method:                 Least Squares   F-statistic:                     11.41\n",
      "Date:                Sun, 29 Jul 2018   Prob (F-statistic):           0.000946\n",
      "Time:                        22:49:01   Log-Likelihood:                -704.99\n",
      "No. Observations:                 143   AIC:                             1414.\n",
      "Df Residuals:                     141   BIC:                             1420.\n",
      "Df Model:                           1                                         \n",
      "Covariance Type:            nonrobust                                         \n",
      "=============================================================================================\n",
      "                                coef    std err          t      P>|t|      [0.025      0.975]\n",
      "---------------------------------------------------------------------------------------------\n",
      "Intercept                   445.6811      7.733     57.635      0.000     430.394     460.968\n",
      "temp:days:weekend_holiday     0.0376      0.011      3.377      0.001       0.016       0.060\n",
      "==============================================================================\n",
      "Omnibus:                        8.578   Durbin-Watson:                   0.577\n",
      "Prob(Omnibus):                  0.014   Jarque-Bera (JB):                6.750\n",
      "Skew:                          -0.428   Prob(JB):                       0.0342\n",
      "Kurtosis:                       2.366   Cond. No.                     1.90e+03\n",
      "==============================================================================\n",
      "\n",
      "Warnings:\n",
      "[1] Standard Errors assume that the covariance matrix of the errors is correctly specified.\n",
      "[2] The condition number is large, 1.9e+03. This might indicate that there are\n",
      "strong multicollinearity or other numerical problems.\n"
     ]
    }
   ],
   "source": [
    "# This tests interaction effect of the variables in the linear equation\n",
    "ols2 = smf.ols('elect_lag~temp:days:weekend_holiday', data=df2).fit()\n",
    "print(ols2.summary())"
   ]
  },
  {
   "cell_type": "code",
   "execution_count": 42,
   "metadata": {},
   "outputs": [
    {
     "name": "stdout",
     "output_type": "stream",
     "text": [
      "                            OLS Regression Results                            \n",
      "==============================================================================\n",
      "Dep. Variable:              elect_lag   R-squared:                       0.789\n",
      "Model:                            OLS   Adj. R-squared:                  0.778\n",
      "Method:                 Least Squares   F-statistic:                     71.95\n",
      "Date:                Sun, 29 Jul 2018   Prob (F-statistic):           1.86e-42\n",
      "Time:                        22:50:06   Log-Likelihood:                -599.44\n",
      "No. Observations:                 143   AIC:                             1215.\n",
      "Df Residuals:                     135   BIC:                             1239.\n",
      "Df Model:                           7                                         \n",
      "Covariance Type:            nonrobust                                         \n",
      "=============================================================================================\n",
      "                                coef    std err          t      P>|t|      [0.025      0.975]\n",
      "---------------------------------------------------------------------------------------------\n",
      "Intercept                 -3745.4208   2267.601     -1.652      0.101   -8230.038     739.197\n",
      "temp                        151.3143     82.536      1.833      0.069     -11.916     314.545\n",
      "days                       1147.4815    833.533      1.377      0.171    -500.990    2795.953\n",
      "temp:days                   -41.0054     30.359     -1.351      0.179    -101.045      19.034\n",
      "weekend_holiday             343.0352    241.268      1.422      0.157    -134.118     820.189\n",
      "temp:weekend_holiday        -12.4092      8.785     -1.413      0.160     -29.783       4.964\n",
      "days:weekend_holiday       -125.4369     87.549     -1.433      0.154    -298.582      47.708\n",
      "temp:days:weekend_holiday     4.5234      3.190      1.418      0.158      -1.785      10.832\n",
      "==============================================================================\n",
      "Omnibus:                        4.439   Durbin-Watson:                   1.309\n",
      "Prob(Omnibus):                  0.109   Jarque-Bera (JB):                3.913\n",
      "Skew:                          -0.368   Prob(JB):                        0.141\n",
      "Kurtosis:                       3.337   Cond. No.                     1.31e+06\n",
      "==============================================================================\n",
      "\n",
      "Warnings:\n",
      "[1] Standard Errors assume that the covariance matrix of the errors is correctly specified.\n",
      "[2] The condition number is large, 1.31e+06. This might indicate that there are\n",
      "strong multicollinearity or other numerical problems.\n"
     ]
    }
   ],
   "source": [
    "# This tests the individual & interaction effect of each variable in the linear equation\n",
    "ols3 = smf.ols('elect_lag~temp*days*weekend_holiday', data=df2).fit()\n",
    "print(ols3.summary())"
   ]
  },
  {
   "cell_type": "markdown",
   "metadata": {},
   "source": [
    "##### Interpreting the Regression Summary"
   ]
  },
  {
   "cell_type": "markdown",
   "metadata": {},
   "source": [
    " * __R-squared__: Percentage of variability of dataset that can be explained by the model\n",
    " * __Adjusted R-squared__: R-squared adjusted by number of predictors\n",
    " * __AIC/BIC__: Score to compare the quality between models using the same dataset. Nothing to do with how good the fit is. The less the better.\n",
    " * __Coef__: Coefficient of the regression equation with the predictor. Can be used to find out if it is positively or negatively correlated to the response.\n",
    " * __P>|t|__: p-value, test if the predictor is significantly influencing the response."
   ]
  }
 ],
 "metadata": {
  "kernelspec": {
   "display_name": "Python 3",
   "language": "python",
   "name": "python3"
  },
  "language_info": {
   "codemirror_mode": {
    "name": "ipython",
    "version": 3
   },
   "file_extension": ".py",
   "mimetype": "text/x-python",
   "name": "python",
   "nbconvert_exporter": "python",
   "pygments_lexer": "ipython3",
   "version": "3.6.3"
  }
 },
 "nbformat": 4,
 "nbformat_minor": 2
}
